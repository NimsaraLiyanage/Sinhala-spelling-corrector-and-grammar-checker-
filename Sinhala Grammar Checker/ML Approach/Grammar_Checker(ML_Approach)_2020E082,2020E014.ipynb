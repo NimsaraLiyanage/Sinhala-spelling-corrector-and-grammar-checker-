{
  "nbformat": 4,
  "nbformat_minor": 0,
  "metadata": {
    "colab": {
      "provenance": []
    },
    "kernelspec": {
      "name": "python3",
      "display_name": "Python 3"
    },
    "language_info": {
      "name": "python"
    }
  },
  "cells": [
    {
      "cell_type": "markdown",
      "source": [
        "Step 1: Import Required Libraries\n",
        "\n"
      ],
      "metadata": {
        "id": "IdiT3GaQiZDa"
      }
    },
    {
      "cell_type": "code",
      "execution_count": null,
      "metadata": {
        "colab": {
          "base_uri": "https://localhost:8080/"
        },
        "id": "URDnja6qdAPN",
        "outputId": "cac6a430-7b02-477f-f9a2-0868c89bb62e"
      },
      "outputs": [
        {
          "output_type": "stream",
          "name": "stderr",
          "text": [
            "[nltk_data] Downloading package punkt to /root/nltk_data...\n",
            "[nltk_data]   Unzipping tokenizers/punkt.zip.\n"
          ]
        },
        {
          "output_type": "execute_result",
          "data": {
            "text/plain": [
              "True"
            ]
          },
          "metadata": {},
          "execution_count": 1
        }
      ],
      "source": [
        "import pandas as pd\n",
        "from sklearn.feature_extraction.text import CountVectorizer\n",
        "from sklearn.ensemble import RandomForestClassifier\n",
        "from sklearn.model_selection import train_test_split\n",
        "from sklearn.metrics import accuracy_score\n",
        "from nltk.tokenize import word_tokenize\n",
        "import nltk\n",
        "\n",
        "# Download required NLTK tokenizer\n",
        "nltk.download('punkt')\n"
      ]
    },
    {
      "cell_type": "markdown",
      "source": [
        "Step 2: Load the Dataset"
      ],
      "metadata": {
        "id": "LunCDdz_ifkE"
      }
    },
    {
      "cell_type": "code",
      "source": [
        "# Load test data with UTF-16 encoding\n",
        "test_data_path = '/content/test_dataset.txt'\n",
        "\n",
        "with open(test_data_path, 'r', encoding='utf-16') as file:\n",
        "    sentences = [line.strip().split(\" \", 1) for line in file.readlines()]\n",
        "\n",
        "# Process the sentences and load into DataFrame\n",
        "import pandas as pd\n",
        "\n",
        "df = pd.DataFrame(sentences, columns=[\"label\", \"sentence\"])\n",
        "df[\"label\"] = df[\"label\"].astype(int)\n",
        "\n",
        "# Check the first few rows of the dataframe to ensure it's loaded correctly\n",
        "df.head()"
      ],
      "metadata": {
        "colab": {
          "base_uri": "https://localhost:8080/",
          "height": 206
        },
        "id": "NueuS5SPihQz",
        "outputId": "7db8f296-68f9-4d7d-8cc2-078f0e15eb9a"
      },
      "execution_count": null,
      "outputs": [
        {
          "output_type": "execute_result",
          "data": {
            "text/plain": [
              "   label   sentence\n",
              "0      0     මම යති\n",
              "1      0   මම යත්වා\n",
              "2      0    මම යනවා\n",
              "3      0  මම යනවාලා\n",
              "4      0     මම යනු"
            ],
            "text/html": [
              "\n",
              "  <div id=\"df-170d36e5-648f-40dc-a042-9bd3ecf05a74\" class=\"colab-df-container\">\n",
              "    <div>\n",
              "<style scoped>\n",
              "    .dataframe tbody tr th:only-of-type {\n",
              "        vertical-align: middle;\n",
              "    }\n",
              "\n",
              "    .dataframe tbody tr th {\n",
              "        vertical-align: top;\n",
              "    }\n",
              "\n",
              "    .dataframe thead th {\n",
              "        text-align: right;\n",
              "    }\n",
              "</style>\n",
              "<table border=\"1\" class=\"dataframe\">\n",
              "  <thead>\n",
              "    <tr style=\"text-align: right;\">\n",
              "      <th></th>\n",
              "      <th>label</th>\n",
              "      <th>sentence</th>\n",
              "    </tr>\n",
              "  </thead>\n",
              "  <tbody>\n",
              "    <tr>\n",
              "      <th>0</th>\n",
              "      <td>0</td>\n",
              "      <td>මම යති</td>\n",
              "    </tr>\n",
              "    <tr>\n",
              "      <th>1</th>\n",
              "      <td>0</td>\n",
              "      <td>මම යත්වා</td>\n",
              "    </tr>\n",
              "    <tr>\n",
              "      <th>2</th>\n",
              "      <td>0</td>\n",
              "      <td>මම යනවා</td>\n",
              "    </tr>\n",
              "    <tr>\n",
              "      <th>3</th>\n",
              "      <td>0</td>\n",
              "      <td>මම යනවාලා</td>\n",
              "    </tr>\n",
              "    <tr>\n",
              "      <th>4</th>\n",
              "      <td>0</td>\n",
              "      <td>මම යනු</td>\n",
              "    </tr>\n",
              "  </tbody>\n",
              "</table>\n",
              "</div>\n",
              "    <div class=\"colab-df-buttons\">\n",
              "\n",
              "  <div class=\"colab-df-container\">\n",
              "    <button class=\"colab-df-convert\" onclick=\"convertToInteractive('df-170d36e5-648f-40dc-a042-9bd3ecf05a74')\"\n",
              "            title=\"Convert this dataframe to an interactive table.\"\n",
              "            style=\"display:none;\">\n",
              "\n",
              "  <svg xmlns=\"http://www.w3.org/2000/svg\" height=\"24px\" viewBox=\"0 -960 960 960\">\n",
              "    <path d=\"M120-120v-720h720v720H120Zm60-500h600v-160H180v160Zm220 220h160v-160H400v160Zm0 220h160v-160H400v160ZM180-400h160v-160H180v160Zm440 0h160v-160H620v160ZM180-180h160v-160H180v160Zm440 0h160v-160H620v160Z\"/>\n",
              "  </svg>\n",
              "    </button>\n",
              "\n",
              "  <style>\n",
              "    .colab-df-container {\n",
              "      display:flex;\n",
              "      gap: 12px;\n",
              "    }\n",
              "\n",
              "    .colab-df-convert {\n",
              "      background-color: #E8F0FE;\n",
              "      border: none;\n",
              "      border-radius: 50%;\n",
              "      cursor: pointer;\n",
              "      display: none;\n",
              "      fill: #1967D2;\n",
              "      height: 32px;\n",
              "      padding: 0 0 0 0;\n",
              "      width: 32px;\n",
              "    }\n",
              "\n",
              "    .colab-df-convert:hover {\n",
              "      background-color: #E2EBFA;\n",
              "      box-shadow: 0px 1px 2px rgba(60, 64, 67, 0.3), 0px 1px 3px 1px rgba(60, 64, 67, 0.15);\n",
              "      fill: #174EA6;\n",
              "    }\n",
              "\n",
              "    .colab-df-buttons div {\n",
              "      margin-bottom: 4px;\n",
              "    }\n",
              "\n",
              "    [theme=dark] .colab-df-convert {\n",
              "      background-color: #3B4455;\n",
              "      fill: #D2E3FC;\n",
              "    }\n",
              "\n",
              "    [theme=dark] .colab-df-convert:hover {\n",
              "      background-color: #434B5C;\n",
              "      box-shadow: 0px 1px 3px 1px rgba(0, 0, 0, 0.15);\n",
              "      filter: drop-shadow(0px 1px 2px rgba(0, 0, 0, 0.3));\n",
              "      fill: #FFFFFF;\n",
              "    }\n",
              "  </style>\n",
              "\n",
              "    <script>\n",
              "      const buttonEl =\n",
              "        document.querySelector('#df-170d36e5-648f-40dc-a042-9bd3ecf05a74 button.colab-df-convert');\n",
              "      buttonEl.style.display =\n",
              "        google.colab.kernel.accessAllowed ? 'block' : 'none';\n",
              "\n",
              "      async function convertToInteractive(key) {\n",
              "        const element = document.querySelector('#df-170d36e5-648f-40dc-a042-9bd3ecf05a74');\n",
              "        const dataTable =\n",
              "          await google.colab.kernel.invokeFunction('convertToInteractive',\n",
              "                                                    [key], {});\n",
              "        if (!dataTable) return;\n",
              "\n",
              "        const docLinkHtml = 'Like what you see? Visit the ' +\n",
              "          '<a target=\"_blank\" href=https://colab.research.google.com/notebooks/data_table.ipynb>data table notebook</a>'\n",
              "          + ' to learn more about interactive tables.';\n",
              "        element.innerHTML = '';\n",
              "        dataTable['output_type'] = 'display_data';\n",
              "        await google.colab.output.renderOutput(dataTable, element);\n",
              "        const docLink = document.createElement('div');\n",
              "        docLink.innerHTML = docLinkHtml;\n",
              "        element.appendChild(docLink);\n",
              "      }\n",
              "    </script>\n",
              "  </div>\n",
              "\n",
              "\n",
              "<div id=\"df-ae16191c-c856-4864-9db8-8af824f1fb12\">\n",
              "  <button class=\"colab-df-quickchart\" onclick=\"quickchart('df-ae16191c-c856-4864-9db8-8af824f1fb12')\"\n",
              "            title=\"Suggest charts\"\n",
              "            style=\"display:none;\">\n",
              "\n",
              "<svg xmlns=\"http://www.w3.org/2000/svg\" height=\"24px\"viewBox=\"0 0 24 24\"\n",
              "     width=\"24px\">\n",
              "    <g>\n",
              "        <path d=\"M19 3H5c-1.1 0-2 .9-2 2v14c0 1.1.9 2 2 2h14c1.1 0 2-.9 2-2V5c0-1.1-.9-2-2-2zM9 17H7v-7h2v7zm4 0h-2V7h2v10zm4 0h-2v-4h2v4z\"/>\n",
              "    </g>\n",
              "</svg>\n",
              "  </button>\n",
              "\n",
              "<style>\n",
              "  .colab-df-quickchart {\n",
              "      --bg-color: #E8F0FE;\n",
              "      --fill-color: #1967D2;\n",
              "      --hover-bg-color: #E2EBFA;\n",
              "      --hover-fill-color: #174EA6;\n",
              "      --disabled-fill-color: #AAA;\n",
              "      --disabled-bg-color: #DDD;\n",
              "  }\n",
              "\n",
              "  [theme=dark] .colab-df-quickchart {\n",
              "      --bg-color: #3B4455;\n",
              "      --fill-color: #D2E3FC;\n",
              "      --hover-bg-color: #434B5C;\n",
              "      --hover-fill-color: #FFFFFF;\n",
              "      --disabled-bg-color: #3B4455;\n",
              "      --disabled-fill-color: #666;\n",
              "  }\n",
              "\n",
              "  .colab-df-quickchart {\n",
              "    background-color: var(--bg-color);\n",
              "    border: none;\n",
              "    border-radius: 50%;\n",
              "    cursor: pointer;\n",
              "    display: none;\n",
              "    fill: var(--fill-color);\n",
              "    height: 32px;\n",
              "    padding: 0;\n",
              "    width: 32px;\n",
              "  }\n",
              "\n",
              "  .colab-df-quickchart:hover {\n",
              "    background-color: var(--hover-bg-color);\n",
              "    box-shadow: 0 1px 2px rgba(60, 64, 67, 0.3), 0 1px 3px 1px rgba(60, 64, 67, 0.15);\n",
              "    fill: var(--button-hover-fill-color);\n",
              "  }\n",
              "\n",
              "  .colab-df-quickchart-complete:disabled,\n",
              "  .colab-df-quickchart-complete:disabled:hover {\n",
              "    background-color: var(--disabled-bg-color);\n",
              "    fill: var(--disabled-fill-color);\n",
              "    box-shadow: none;\n",
              "  }\n",
              "\n",
              "  .colab-df-spinner {\n",
              "    border: 2px solid var(--fill-color);\n",
              "    border-color: transparent;\n",
              "    border-bottom-color: var(--fill-color);\n",
              "    animation:\n",
              "      spin 1s steps(1) infinite;\n",
              "  }\n",
              "\n",
              "  @keyframes spin {\n",
              "    0% {\n",
              "      border-color: transparent;\n",
              "      border-bottom-color: var(--fill-color);\n",
              "      border-left-color: var(--fill-color);\n",
              "    }\n",
              "    20% {\n",
              "      border-color: transparent;\n",
              "      border-left-color: var(--fill-color);\n",
              "      border-top-color: var(--fill-color);\n",
              "    }\n",
              "    30% {\n",
              "      border-color: transparent;\n",
              "      border-left-color: var(--fill-color);\n",
              "      border-top-color: var(--fill-color);\n",
              "      border-right-color: var(--fill-color);\n",
              "    }\n",
              "    40% {\n",
              "      border-color: transparent;\n",
              "      border-right-color: var(--fill-color);\n",
              "      border-top-color: var(--fill-color);\n",
              "    }\n",
              "    60% {\n",
              "      border-color: transparent;\n",
              "      border-right-color: var(--fill-color);\n",
              "    }\n",
              "    80% {\n",
              "      border-color: transparent;\n",
              "      border-right-color: var(--fill-color);\n",
              "      border-bottom-color: var(--fill-color);\n",
              "    }\n",
              "    90% {\n",
              "      border-color: transparent;\n",
              "      border-bottom-color: var(--fill-color);\n",
              "    }\n",
              "  }\n",
              "</style>\n",
              "\n",
              "  <script>\n",
              "    async function quickchart(key) {\n",
              "      const quickchartButtonEl =\n",
              "        document.querySelector('#' + key + ' button');\n",
              "      quickchartButtonEl.disabled = true;  // To prevent multiple clicks.\n",
              "      quickchartButtonEl.classList.add('colab-df-spinner');\n",
              "      try {\n",
              "        const charts = await google.colab.kernel.invokeFunction(\n",
              "            'suggestCharts', [key], {});\n",
              "      } catch (error) {\n",
              "        console.error('Error during call to suggestCharts:', error);\n",
              "      }\n",
              "      quickchartButtonEl.classList.remove('colab-df-spinner');\n",
              "      quickchartButtonEl.classList.add('colab-df-quickchart-complete');\n",
              "    }\n",
              "    (() => {\n",
              "      let quickchartButtonEl =\n",
              "        document.querySelector('#df-ae16191c-c856-4864-9db8-8af824f1fb12 button');\n",
              "      quickchartButtonEl.style.display =\n",
              "        google.colab.kernel.accessAllowed ? 'block' : 'none';\n",
              "    })();\n",
              "  </script>\n",
              "</div>\n",
              "\n",
              "    </div>\n",
              "  </div>\n"
            ],
            "application/vnd.google.colaboratory.intrinsic+json": {
              "type": "dataframe",
              "variable_name": "df",
              "summary": "{\n  \"name\": \"df\",\n  \"rows\": 16920,\n  \"fields\": [\n    {\n      \"column\": \"label\",\n      \"properties\": {\n        \"dtype\": \"number\",\n        \"std\": 0,\n        \"min\": 0,\n        \"max\": 1,\n        \"num_unique_values\": 2,\n        \"samples\": [\n          1,\n          0\n        ],\n        \"semantic_type\": \"\",\n        \"description\": \"\"\n      }\n    },\n    {\n      \"column\": \"sentence\",\n      \"properties\": {\n        \"dtype\": \"string\",\n        \"num_unique_values\": 16920,\n        \"samples\": [\n          \"\\u0d94\\u0db6 \\u0dc3\\u0dd2\\u0db1\\u0dca\\u0daf\\u0dd4 \\u0d9a\\u0dd2\\u0dc0\\u0dca\\u0dc0\\u0ddc\\u0dad\\u0dca \\u0db1\\u0dd4\\u0db6\\u0dbd\\u0dcf \\u0d94\\u0dc4\\u0dd4\\u0d9c\\u0dd9\\u0db1\\u0dca \\u0db4\\u0ddc\\u0dad\\u0d9a\\u0dca \\u0daf\\u0dd3\\u0db4\\u0dbd\\u0dca\\u0dbd\\u0dcf\",\n          \"\\u0dbd\\u0dc3\\u0dca\\u0dc3\\u0db1 \\u0dc0\\u0dcf\\u0dc4\\u0db1 \\u0db6\\u0dad\\u0dca \\u0d9a\\u0db8\\u0dd2\\u0db1\\u0dca \\u0d9c\\u0dd9\\u0daf\\u0dbb \\u0dba\\u0db1\\u0dca\\u0db1\\u0dd9\\u0db8\\u0dd2\\u0dc0\\u0dcf\"\n        ],\n        \"semantic_type\": \"\",\n        \"description\": \"\"\n      }\n    }\n  ]\n}"
            }
          },
          "metadata": {},
          "execution_count": 2
        }
      ]
    },
    {
      "cell_type": "markdown",
      "source": [
        "Step 3: Handle Missing Values\n"
      ],
      "metadata": {
        "id": "FnYLNpmTi08O"
      }
    },
    {
      "cell_type": "code",
      "source": [
        "# Check for missing values and handle them\n",
        "df['sentence'] = df['sentence'].fillna('')  # Replace NaN with an empty string\n",
        "\n",
        "# Optional: Drop rows with missing sentences if needed\n",
        "# df = df.dropna(subset=['sentence'])\n",
        "\n",
        "print(\"Missing values handled. Dataset preview:\")\n",
        "print(df.isnull().sum())  # Verify no missing values remain\n"
      ],
      "metadata": {
        "colab": {
          "base_uri": "https://localhost:8080/"
        },
        "id": "bbOPLqTGiy_3",
        "outputId": "ab00e00b-adef-46f6-9516-0d9ae1f7cfa0"
      },
      "execution_count": null,
      "outputs": [
        {
          "output_type": "stream",
          "name": "stdout",
          "text": [
            "Missing values handled. Dataset preview:\n",
            "label       0\n",
            "sentence    0\n",
            "dtype: int64\n"
          ]
        }
      ]
    },
    {
      "cell_type": "markdown",
      "source": [
        "Step 4: Split Data into Features and Labels\n"
      ],
      "metadata": {
        "id": "XEtd8RmAi87c"
      }
    },
    {
      "cell_type": "code",
      "source": [
        "# Split data into sentences (features) and labels (target)\n",
        "X = df['sentence']  # Features: sentences\n",
        "y = df['label']     # Labels: 1 (correct), 0 (incorrect)\n",
        "\n",
        "# Train-test split\n",
        "X_train, X_test, y_train, y_test = train_test_split(X, y, test_size=0.2, random_state=42)\n",
        "\n",
        "print(\"Train-test split completed.\")\n",
        "print(f\"Training samples: {len(X_train)}, Testing samples: {len(X_test)}\")\n"
      ],
      "metadata": {
        "colab": {
          "base_uri": "https://localhost:8080/"
        },
        "id": "DSy2bbn_i6ox",
        "outputId": "f10ff18b-0bc4-4f3c-bf70-f15219f87078"
      },
      "execution_count": null,
      "outputs": [
        {
          "output_type": "stream",
          "name": "stdout",
          "text": [
            "Train-test split completed.\n",
            "Training samples: 13536, Testing samples: 3384\n"
          ]
        }
      ]
    },
    {
      "cell_type": "markdown",
      "source": [
        "Step 5: Text Vectorization Using CountVectorizer\n",
        "\n"
      ],
      "metadata": {
        "id": "uPwVyDxOjE5r"
      }
    },
    {
      "cell_type": "code",
      "source": [
        "!pip install nltk\n",
        "import nltk\n",
        "\n",
        "# Download the required NLTK data package\n",
        "nltk.download('punkt_tab')\n",
        "\n",
        "# Initialize CountVectorizer with a custom tokenizer\n",
        "vectorizer = CountVectorizer(tokenizer=word_tokenize, token_pattern=None)\n",
        "\n",
        "# Convert text data into numeric vectors\n",
        "X_train_vectorized = vectorizer.fit_transform(X_train)\n",
        "X_test_vectorized = vectorizer.transform(X_test)\n",
        "\n",
        "print(\"Vectorization completed. Feature matrix size:\")\n",
        "print(f\"Training data: {X_train_vectorized.shape}, Testing data: {X_test_vectorized.shape}\")"
      ],
      "metadata": {
        "colab": {
          "base_uri": "https://localhost:8080/"
        },
        "id": "o4pXPdFrjEei",
        "outputId": "b792a78d-69f5-4c33-9a34-74419b50151b"
      },
      "execution_count": null,
      "outputs": [
        {
          "output_type": "stream",
          "name": "stdout",
          "text": [
            "Requirement already satisfied: nltk in /usr/local/lib/python3.10/dist-packages (3.9.1)\n",
            "Requirement already satisfied: click in /usr/local/lib/python3.10/dist-packages (from nltk) (8.1.7)\n",
            "Requirement already satisfied: joblib in /usr/local/lib/python3.10/dist-packages (from nltk) (1.4.2)\n",
            "Requirement already satisfied: regex>=2021.8.3 in /usr/local/lib/python3.10/dist-packages (from nltk) (2024.9.11)\n",
            "Requirement already satisfied: tqdm in /usr/local/lib/python3.10/dist-packages (from nltk) (4.66.6)\n"
          ]
        },
        {
          "output_type": "stream",
          "name": "stderr",
          "text": [
            "[nltk_data] Downloading package punkt_tab to /root/nltk_data...\n",
            "[nltk_data]   Unzipping tokenizers/punkt_tab.zip.\n"
          ]
        },
        {
          "output_type": "stream",
          "name": "stdout",
          "text": [
            "Vectorization completed. Feature matrix size:\n",
            "Training data: (13536, 195), Testing data: (3384, 195)\n"
          ]
        }
      ]
    },
    {
      "cell_type": "markdown",
      "source": [
        "Step 6: Train the Random Forest Classifier\n"
      ],
      "metadata": {
        "id": "LNlazOR_jajJ"
      }
    },
    {
      "cell_type": "code",
      "source": [
        "# Initialize the Random Forest Classifier\n",
        "model = RandomForestClassifier(n_estimators=100, random_state=42)\n",
        "\n",
        "# Train the model on the vectorized training data\n",
        "model.fit(X_train_vectorized, y_train)\n",
        "\n",
        "print(\"Model training completed.\")\n"
      ],
      "metadata": {
        "colab": {
          "base_uri": "https://localhost:8080/"
        },
        "id": "ZYaxwqLkjcN-",
        "outputId": "fb5b6533-1c2b-4d53-e575-e64f43ed7546"
      },
      "execution_count": null,
      "outputs": [
        {
          "output_type": "stream",
          "name": "stdout",
          "text": [
            "Model training completed.\n"
          ]
        }
      ]
    },
    {
      "cell_type": "markdown",
      "source": [
        "Step 7: Evaluate the Model\n"
      ],
      "metadata": {
        "id": "kHwlIPuDji8c"
      }
    },
    {
      "cell_type": "code",
      "source": [
        "# Predict on the test set\n",
        "y_pred = model.predict(X_test_vectorized)\n",
        "\n",
        "# Calculate and display accuracy\n",
        "accuracy = accuracy_score(y_test, y_pred)\n",
        "print(f\"Model Accuracy: {accuracy:.2f}\")\n"
      ],
      "metadata": {
        "colab": {
          "base_uri": "https://localhost:8080/"
        },
        "id": "ndwUy-iXjiiE",
        "outputId": "4e760afd-d233-4376-a673-31ef10b9c510"
      },
      "execution_count": null,
      "outputs": [
        {
          "output_type": "stream",
          "name": "stdout",
          "text": [
            "Model Accuracy: 0.96\n"
          ]
        }
      ]
    },
    {
      "cell_type": "markdown",
      "source": [
        "Step 8: Predict and Correct Sentences\n"
      ],
      "metadata": {
        "id": "vdd5z6HRjoST"
      }
    },
    {
      "cell_type": "code",
      "source": [
        "# Define a function to predict and correct sentences\n",
        "def grammar_checker(sentence):\n",
        "    # Vectorize the input sentence\n",
        "    vectorized_sentence = vectorizer.transform([sentence])\n",
        "\n",
        "    # Predict whether the sentence is correct or incorrect\n",
        "    prediction = model.predict(vectorized_sentence)[0]\n",
        "\n",
        "    if prediction == 1:\n",
        "        print(f\"Input Sentence: {sentence}\")\n",
        "        print(\"Sentence is Correct.\")\n",
        "    else:\n",
        "        print(f\"Input Sentence: {sentence}\")\n",
        "        print(\"Sentence is Incorrect.\")\n",
        "\n",
        "        # Suggest a correction (mock correction here for demonstration)\n",
        "        # In practice, this could involve further analysis\n",
        "        print(\"Correct Sentence: (Correction logic required)\")\n",
        "\n",
        "# Test the function with a sample sentence\n",
        "sample_sentence = \"මම යනවා\"\n",
        "grammar_checker(sample_sentence)\n"
      ],
      "metadata": {
        "colab": {
          "base_uri": "https://localhost:8080/"
        },
        "id": "tLcXbRDojqlq",
        "outputId": "3ad950a1-37fd-41a9-842b-edaa11c0085a"
      },
      "execution_count": null,
      "outputs": [
        {
          "output_type": "stream",
          "name": "stdout",
          "text": [
            "Input Sentence: මම යනවා\n",
            "Sentence is Incorrect.\n",
            "Correct Sentence: (Correction logic required)\n"
          ]
        }
      ]
    },
    {
      "cell_type": "markdown",
      "source": [
        "Final Pipeline Code\n",
        "\n"
      ],
      "metadata": {
        "id": "df0BKzx2kxrX"
      }
    },
    {
      "cell_type": "code",
      "source": [
        "def grammar_checker(sentence, vectorizer, model, df):\n",
        "    \"\"\"\n",
        "    Check the grammar of a sentence and suggest a correction if it's incorrect.\n",
        "\n",
        "    Parameters:\n",
        "    - sentence: The input sentence to check.\n",
        "    - vectorizer: The trained CountVectorizer.\n",
        "    - model: The trained classification model.\n",
        "    - df: The original dataset (used to find corrections).\n",
        "    \"\"\"\n",
        "    # Vectorize the input sentence\n",
        "    vectorized_sentence = vectorizer.transform([sentence])\n",
        "\n",
        "    # Predict whether the sentence is correct or incorrect\n",
        "    prediction = model.predict(vectorized_sentence)[0]\n",
        "\n",
        "    if prediction == 1:\n",
        "        print(f\"Input Sentence: {sentence}\")\n",
        "        print(\"Sentence is Correct.\")\n",
        "    else:\n",
        "        print(f\"Input Sentence: {sentence}\")\n",
        "        print(\"Sentence is Incorrect.\")\n",
        "\n",
        "        # Find a similar correct sentence from the dataset\n",
        "        correct_sentences = df[df['label'] == 1]['sentence']\n",
        "        most_similar = None\n",
        "        max_similarity = 0\n",
        "\n",
        "        for correct_sentence in correct_sentences:\n",
        "            # Calculate similarity between input and dataset sentences\n",
        "            similarity = len(set(sentence.split()).intersection(set(correct_sentence.split())))\n",
        "            if similarity > max_similarity:\n",
        "                max_similarity = similarity\n",
        "                most_similar = correct_sentence\n",
        "\n",
        "        if most_similar:\n",
        "            print(f\"Correct Sentence: {most_similar}\")\n",
        "        else:\n",
        "            print(\"Correct Sentence: No suggestion found.\")\n"
      ],
      "metadata": {
        "id": "w4Iz3SK6kuaS"
      },
      "execution_count": null,
      "outputs": []
    },
    {
      "cell_type": "code",
      "source": [
        "# Example input sentence to check\n",
        "sample_sentence = \"මම යනවා\"\n",
        "\n",
        "# Call the grammar_checker function\n",
        "grammar_checker(sample_sentence, vectorizer, model, df)\n"
      ],
      "metadata": {
        "colab": {
          "base_uri": "https://localhost:8080/"
        },
        "id": "pB3AFe18lndo",
        "outputId": "6c2c2aea-fa79-4d62-f02f-474102bcd020"
      },
      "execution_count": null,
      "outputs": [
        {
          "output_type": "stream",
          "name": "stdout",
          "text": [
            "Input Sentence: මම යනවා\n",
            "Sentence is Incorrect.\n",
            "Correct Sentence: මම නැටුම් නටද්දී නුබ යනවා\n"
          ]
        }
      ]
    },
    {
      "cell_type": "code",
      "source": [
        "sentences = [\"මම යනවා\", \"මම යත්වා\", \"මම ගියෙමි\"]\n",
        "for sentence in sentences:\n",
        "    grammar_checker(sentence, vectorizer, model, df)\n",
        "    print(\"\\n\")\n"
      ],
      "metadata": {
        "colab": {
          "base_uri": "https://localhost:8080/"
        },
        "id": "fzI4C4XyVXQI",
        "outputId": "90e7b3c7-d8d6-4980-af23-dc0038077b4b"
      },
      "execution_count": null,
      "outputs": [
        {
          "output_type": "stream",
          "name": "stdout",
          "text": [
            "Input Sentence: මම යනවා\n",
            "Sentence is Incorrect.\n",
            "Correct Sentence: මම නැටුම් නටද්දී නුබ යනවා\n",
            "\n",
            "\n",
            "Input Sentence: මම යත්වා\n",
            "Sentence is Incorrect.\n",
            "Correct Sentence: මම නැටුම් නටද්දී ළමයා යත්වා\n",
            "\n",
            "\n",
            "Input Sentence: මම ගියෙමි\n",
            "Sentence is Correct.\n",
            "\n",
            "\n"
          ]
        }
      ]
    },
    {
      "cell_type": "markdown",
      "source": [
        "Experiment with Hyperparameter Tuning"
      ],
      "metadata": {
        "id": "x4jeh_v6fY-3"
      }
    },
    {
      "cell_type": "code",
      "source": [
        "from sklearn.model_selection import GridSearchCV\n",
        "\n",
        "param_grid = {\n",
        "    'n_estimators': [100, 200, 300],\n",
        "    'max_depth': [10, 20, None],\n",
        "    'min_samples_split': [2, 5, 10],\n",
        "    'min_samples_leaf': [1, 2, 4]\n",
        "}\n",
        "grid_search = GridSearchCV(RandomForestClassifier(random_state=42), param_grid, cv=3, n_jobs=-1, verbose=2)\n",
        "grid_search.fit(X_train_vectorized, y_train)\n",
        "best_model = grid_search.best_estimator_\n"
      ],
      "metadata": {
        "colab": {
          "base_uri": "https://localhost:8080/"
        },
        "id": "_Slr2I1gW2jl",
        "outputId": "3ba2f0c9-d75e-4da8-b78c-4571ef40ad00"
      },
      "execution_count": null,
      "outputs": [
        {
          "output_type": "stream",
          "name": "stdout",
          "text": [
            "Fitting 3 folds for each of 81 candidates, totalling 243 fits\n"
          ]
        }
      ]
    },
    {
      "cell_type": "markdown",
      "source": [
        "Evaluate Using Cross-Validation"
      ],
      "metadata": {
        "id": "1oVXLF-AfaAT"
      }
    },
    {
      "cell_type": "code",
      "source": [
        "from sklearn.model_selection import cross_val_score\n",
        "\n",
        "scores = cross_val_score(model, X_train_vectorized, y_train, cv=5, scoring='accuracy')\n",
        "print(f\"Cross-Validation Accuracy: {scores.mean():.2f}\")\n"
      ],
      "metadata": {
        "colab": {
          "base_uri": "https://localhost:8080/"
        },
        "id": "dH6T3C9aY69J",
        "outputId": "02e29075-5d59-48ae-dc21-0defd4a94412"
      },
      "execution_count": null,
      "outputs": [
        {
          "output_type": "stream",
          "name": "stdout",
          "text": [
            "Cross-Validation Accuracy: 0.95\n"
          ]
        }
      ]
    },
    {
      "cell_type": "markdown",
      "source": [
        "Update Grammar Checker for Accuracy"
      ],
      "metadata": {
        "id": "a1Bncnehffwn"
      }
    },
    {
      "cell_type": "code",
      "source": [
        "def grammar_checker(sentence, vectorizer, model):\n",
        "    vectorized_sentence = vectorizer.transform([sentence])\n",
        "    prediction = model.predict(vectorized_sentence)[0]\n",
        "    return \"Correct\" if prediction == 1 else \"Incorrect\"\n",
        "\n",
        "sentences = [\"මම යනවා\", \"මම යත්වා\", \"මම ගියෙමි\"]\n",
        "for sentence in sentences:\n",
        "    result = grammar_checker(sentence, vectorizer, best_model)\n",
        "    print(f\"Sentence: {sentence} -> {result}\")\n"
      ],
      "metadata": {
        "colab": {
          "base_uri": "https://localhost:8080/"
        },
        "id": "IH8vuoYIZGBT",
        "outputId": "5f8142d7-017d-482c-848c-5813ac0246f0"
      },
      "execution_count": null,
      "outputs": [
        {
          "output_type": "stream",
          "name": "stdout",
          "text": [
            "Sentence: මම යනවා -> Incorrect\n",
            "Sentence: මම යත්වා -> Incorrect\n",
            "Sentence: මම ගියෙමි -> Correct\n"
          ]
        }
      ]
    },
    {
      "cell_type": "markdown",
      "source": [
        "Use Confusion Matrix for Insights"
      ],
      "metadata": {
        "id": "0O19c33lfiZ2"
      }
    },
    {
      "cell_type": "code",
      "source": [
        "from sklearn.metrics import confusion_matrix, classification_report\n",
        "\n",
        "y_test_pred = model.predict(X_test_vectorized)\n",
        "print(confusion_matrix(y_test, y_test_pred))\n",
        "print(classification_report(y_test, y_test_pred))\n"
      ],
      "metadata": {
        "colab": {
          "base_uri": "https://localhost:8080/"
        },
        "id": "nHzuyVG2ZMaP",
        "outputId": "5e7d8c58-1121-496b-cf6e-691e234e4fc9"
      },
      "execution_count": null,
      "outputs": [
        {
          "output_type": "stream",
          "name": "stdout",
          "text": [
            "[[2920    0]\n",
            " [ 123  341]]\n",
            "              precision    recall  f1-score   support\n",
            "\n",
            "           0       0.96      1.00      0.98      2920\n",
            "           1       1.00      0.73      0.85       464\n",
            "\n",
            "    accuracy                           0.96      3384\n",
            "   macro avg       0.98      0.87      0.91      3384\n",
            "weighted avg       0.97      0.96      0.96      3384\n",
            "\n"
          ]
        }
      ]
    },
    {
      "cell_type": "code",
      "source": [
        "sentences = [\"අපි යනු\", \"අපි යමු\", \"අපි යවමි\"]\n",
        "for sentence in sentences:\n",
        "    result = grammar_checker(sentence, vectorizer, best_model)\n",
        "    print(f\"Sentence: {sentence} -> {result}\")"
      ],
      "metadata": {
        "colab": {
          "base_uri": "https://localhost:8080/"
        },
        "id": "BsyGWsq5a346",
        "outputId": "d0ec4881-4c8e-4320-9d4d-518c61e4beb3"
      },
      "execution_count": null,
      "outputs": [
        {
          "output_type": "stream",
          "name": "stdout",
          "text": [
            "Sentence: අපි යනු -> Incorrect\n",
            "Sentence: අපි යමු -> Correct\n",
            "Sentence: අපි යවමි -> Incorrect\n"
          ]
        }
      ]
    },
    {
      "cell_type": "code",
      "source": [
        "def grammar_checker(sentence, vectorizer, model, df):\n",
        "\n",
        "    # Vectorize the input sentence\n",
        "    vectorized_sentence = vectorizer.transform([sentence])\n",
        "\n",
        "    # Predict whether the sentence is correct or incorrect\n",
        "    prediction = model.predict(vectorized_sentence)[0]\n",
        "\n",
        "    if prediction == 1:\n",
        "        print(f\"Input Sentence: {sentence}\")\n",
        "        print(\"Sentence is Correct.\")\n",
        "    else:\n",
        "        print(f\"Input Sentence: {sentence}\")\n",
        "        print(\"Sentence is Incorrect.\")\n",
        "\n",
        "        # Find a similar correct sentence from the dataset\n",
        "        correct_sentences = df[df['label'] == 1]['sentence']\n",
        "        most_similar = None\n",
        "        max_similarity = 0\n",
        "\n",
        "        for correct_sentence in correct_sentences:\n",
        "            # Calculate similarity between input and dataset sentences\n",
        "            # Using Jaccard similarity for better results\n",
        "            set1 = set(sentence.split())\n",
        "            set2 = set(correct_sentence.split())\n",
        "            similarity = len(set1.intersection(set2)) / len(set1.union(set2)) if set1.union(set2) else 0\n",
        "\n",
        "            if similarity > max_similarity:\n",
        "                max_similarity = similarity\n",
        "                most_similar = correct_sentence\n",
        "\n",
        "        if most_similar:\n",
        "            print(f\"Correct Sentence: {most_similar}\")\n",
        "        else:\n",
        "            print(\"Correct Sentence: No suggestion found.\")\n",
        "\n",
        "\n",
        "# Example usage (assuming you have vectorizer, model, and df defined)\n",
        "# Replace with your actual vectorizer, model and DataFrame\n",
        "sentences = [\"අපි යනු\", \"අපි යමු\", \"අපි යවමි\"]\n",
        "for sentence in sentences:\n",
        "    grammar_checker(sentence, vectorizer, best_model, df)\n",
        "    print(\"\\n\")"
      ],
      "metadata": {
        "colab": {
          "base_uri": "https://localhost:8080/"
        },
        "id": "KFeru9AQbIls",
        "outputId": "3d61806b-90f5-42bd-d142-d73afe1faf70"
      },
      "execution_count": 33,
      "outputs": [
        {
          "output_type": "stream",
          "name": "stdout",
          "text": [
            "Input Sentence: අපි යනු\n",
            "Sentence is Incorrect.\n",
            "Correct Sentence: අපි යන්නෙමු\n",
            "\n",
            "\n",
            "Input Sentence: අපි යමු\n",
            "Sentence is Correct.\n",
            "\n",
            "\n",
            "Input Sentence: අපි යවමි\n",
            "Sentence is Incorrect.\n",
            "Correct Sentence: මම යවමි\n",
            "\n",
            "\n"
          ]
        }
      ]
    },
    {
      "cell_type": "code",
      "source": [
        "sentences = [\"මම ඔහුගෙන් පොතක් ගත්තෙමි\", \"නුබ ගියෙහි\", \"ළමයි වේගයෙන් ගියෝය\" , \" මම ගෙදර යමු\", \"නුබලා ගෙදර වේගයෙන් ගියෙහි\",\"ළමයා පොත බලා ගෙදර ගියෙහු\"]\n",
        "for sentence in sentences:\n",
        "    grammar_checker(sentence, vectorizer, best_model, df)\n",
        "    print(\"\\n\")"
      ],
      "metadata": {
        "colab": {
          "base_uri": "https://localhost:8080/"
        },
        "id": "9gkk4LisbhmW",
        "outputId": "b0900713-32ad-4747-8704-8e0ba750d845"
      },
      "execution_count": 32,
      "outputs": [
        {
          "output_type": "stream",
          "name": "stdout",
          "text": [
            "Input Sentence: මම ඔහුගෙන් පොතක් ගත්තෙමි\n",
            "Sentence is Correct.\n",
            "\n",
            "\n",
            "Input Sentence: නුබ ගියෙහි\n",
            "Sentence is Correct.\n",
            "\n",
            "\n",
            "Input Sentence: ළමයි වේගයෙන් ගියෝය\n",
            "Sentence is Correct.\n",
            "\n",
            "\n",
            "Input Sentence:  මම ගෙදර යමු\n",
            "Sentence is Incorrect.\n",
            "Correct Sentence: මම ගෙදර යන්නෙමි\n",
            "\n",
            "\n",
            "Input Sentence: නුබලා ගෙදර වේගයෙන් ගියෙහි\n",
            "Sentence is Incorrect.\n",
            "Correct Sentence: නුබ ගෙදර වේගයෙන් ගියෙහි\n",
            "\n",
            "\n",
            "Input Sentence: ළමයා පොත බලා ගෙදර ගියෙහු\n",
            "Sentence is Incorrect.\n",
            "Correct Sentence: නුබලා පොත බලා ගෙදර ගියෙහු\n",
            "\n",
            "\n"
          ]
        }
      ]
    }
  ]
}