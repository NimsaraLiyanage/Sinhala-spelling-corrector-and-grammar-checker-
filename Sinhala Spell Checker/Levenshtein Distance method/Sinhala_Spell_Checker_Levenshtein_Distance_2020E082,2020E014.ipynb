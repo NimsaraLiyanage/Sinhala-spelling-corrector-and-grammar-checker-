{
  "nbformat": 4,
  "nbformat_minor": 0,
  "metadata": {
    "colab": {
      "provenance": []
    },
    "kernelspec": {
      "name": "python3",
      "display_name": "Python 3"
    },
    "language_info": {
      "name": "python"
    }
  },
  "cells": [
    {
      "cell_type": "markdown",
      "source": [
        "Step 1: Load Necessary Libraries"
      ],
      "metadata": {
        "id": "8Th5jzL_310q"
      }
    },
    {
      "cell_type": "code",
      "execution_count": 1,
      "metadata": {
        "colab": {
          "base_uri": "https://localhost:8080/"
        },
        "id": "oyyOrSH6coP-",
        "outputId": "0057f8db-0e42-4d89-d5d4-28a1acf9501c"
      },
      "outputs": [
        {
          "output_type": "stream",
          "name": "stdout",
          "text": [
            "Requirement already satisfied: pandas in /usr/local/lib/python3.10/dist-packages (2.2.2)\n",
            "Collecting python-Levenshtein\n",
            "  Downloading python_Levenshtein-0.26.1-py3-none-any.whl.metadata (3.7 kB)\n",
            "Requirement already satisfied: numpy>=1.22.4 in /usr/local/lib/python3.10/dist-packages (from pandas) (1.26.4)\n",
            "Requirement already satisfied: python-dateutil>=2.8.2 in /usr/local/lib/python3.10/dist-packages (from pandas) (2.8.2)\n",
            "Requirement already satisfied: pytz>=2020.1 in /usr/local/lib/python3.10/dist-packages (from pandas) (2024.2)\n",
            "Requirement already satisfied: tzdata>=2022.7 in /usr/local/lib/python3.10/dist-packages (from pandas) (2024.2)\n",
            "Collecting Levenshtein==0.26.1 (from python-Levenshtein)\n",
            "  Downloading levenshtein-0.26.1-cp310-cp310-manylinux_2_17_x86_64.manylinux2014_x86_64.whl.metadata (3.2 kB)\n",
            "Collecting rapidfuzz<4.0.0,>=3.9.0 (from Levenshtein==0.26.1->python-Levenshtein)\n",
            "  Downloading rapidfuzz-3.10.1-cp310-cp310-manylinux_2_17_x86_64.manylinux2014_x86_64.whl.metadata (11 kB)\n",
            "Requirement already satisfied: six>=1.5 in /usr/local/lib/python3.10/dist-packages (from python-dateutil>=2.8.2->pandas) (1.17.0)\n",
            "Downloading python_Levenshtein-0.26.1-py3-none-any.whl (9.4 kB)\n",
            "Downloading levenshtein-0.26.1-cp310-cp310-manylinux_2_17_x86_64.manylinux2014_x86_64.whl (162 kB)\n",
            "\u001b[2K   \u001b[90m━━━━━━━━━━━━━━━━━━━━━━━━━━━━━━━━━━━━━━━━\u001b[0m \u001b[32m162.6/162.6 kB\u001b[0m \u001b[31m4.7 MB/s\u001b[0m eta \u001b[36m0:00:00\u001b[0m\n",
            "\u001b[?25hDownloading rapidfuzz-3.10.1-cp310-cp310-manylinux_2_17_x86_64.manylinux2014_x86_64.whl (3.1 MB)\n",
            "\u001b[2K   \u001b[90m━━━━━━━━━━━━━━━━━━━━━━━━━━━━━━━━━━━━━━━━\u001b[0m \u001b[32m3.1/3.1 MB\u001b[0m \u001b[31m39.3 MB/s\u001b[0m eta \u001b[36m0:00:00\u001b[0m\n",
            "\u001b[?25hInstalling collected packages: rapidfuzz, Levenshtein, python-Levenshtein\n",
            "Successfully installed Levenshtein-0.26.1 python-Levenshtein-0.26.1 rapidfuzz-3.10.1\n"
          ]
        }
      ],
      "source": [
        "!pip install pandas python-Levenshtein\n",
        "import pandas as pd\n",
        "import Levenshtein\n",
        "import numpy as np\n"
      ]
    },
    {
      "cell_type": "markdown",
      "source": [
        "Step 2: Load Dataset\n"
      ],
      "metadata": {
        "id": "u5Wpc69u34gQ"
      }
    },
    {
      "cell_type": "code",
      "source": [
        "# Load the dataset\n",
        "dataset_path = \"/content/data-spell-checker.xlsx\"\n",
        "data = pd.read_excel(dataset_path)\n",
        "\n",
        "# Preview the data\n",
        "print(data.head())\n"
      ],
      "metadata": {
        "colab": {
          "base_uri": "https://localhost:8080/"
        },
        "id": "dfWhIiZrxTXZ",
        "outputId": "749c3dd3-4657-4c39-d74d-6f24a6aa86fe"
      },
      "execution_count": 2,
      "outputs": [
        {
          "output_type": "stream",
          "name": "stdout",
          "text": [
            "        word  label\n",
            "0  අභිචෝදකයා      1\n",
            "1      අංකනය      1\n",
            "2       අංකන      1\n",
            "3       අංකය      1\n",
            "4  අංකාන්තරය      1\n"
          ]
        }
      ]
    },
    {
      "cell_type": "markdown",
      "source": [
        "Step 3: Create a Correction Function"
      ],
      "metadata": {
        "id": "hkZxSGj638cj"
      }
    },
    {
      "cell_type": "code",
      "source": [
        "# Function to get the closest correct word using Levenshtein distance\n",
        "def correct_word(input_word, correct_word_list):\n",
        "    min_distance = float('inf')\n",
        "    corrected_word = input_word\n",
        "    for word in correct_word_list:\n",
        "        distance = Levenshtein.distance(input_word, word)\n",
        "        if distance < min_distance:\n",
        "            min_distance = distance\n",
        "            corrected_word = word\n",
        "    return corrected_word\n"
      ],
      "metadata": {
        "id": "rEQbD_uGxZ6B"
      },
      "execution_count": 3,
      "outputs": []
    },
    {
      "cell_type": "markdown",
      "source": [
        "Step 4: Split the Dataset\n"
      ],
      "metadata": {
        "id": "HEik-mhK395w"
      }
    },
    {
      "cell_type": "code",
      "source": [
        "# Extract correct words\n",
        "correct_words = data[data['label'] == 1]['word'].tolist()\n",
        "\n",
        "# Extract incorrect words\n",
        "incorrect_words = data[data['label'] == 0]['word'].tolist()\n"
      ],
      "metadata": {
        "id": "n2ArY4jVxfOv"
      },
      "execution_count": 4,
      "outputs": []
    },
    {
      "cell_type": "markdown",
      "source": [
        "Step 5: Correct the Misspelled Words"
      ],
      "metadata": {
        "id": "vEgLC0904AQl"
      }
    },
    {
      "cell_type": "code",
      "source": [
        "# Correcting misspelled words and displaying outputs\n",
        "def correct_sentences(sentences):\n",
        "    for i, sentence in enumerate(sentences):\n",
        "        print(f\"\\nSample Sentence {i+1}:\")\n",
        "        print(f\"Original Sentence: {sentence}\")\n",
        "\n",
        "        words = sentence.split()\n",
        "        misspelled_words = []\n",
        "        corrected_words = []\n",
        "\n",
        "        # Check and correct words\n",
        "        for word in words:\n",
        "            if word not in correct_words:\n",
        "                misspelled_words.append(word)\n",
        "                corrected_words.append(correct_word(word, correct_words))\n",
        "            else:\n",
        "                corrected_words.append(word)\n",
        "\n",
        "        # Display results\n",
        "        print(f\"Misspelled Words: {misspelled_words}\")\n",
        "        corrected_sentence = \" \".join(corrected_words)\n",
        "        print(f\"Corrected Sentence: {corrected_sentence}\")\n",
        "\n"
      ],
      "metadata": {
        "id": "nV2Vk2UYxihl"
      },
      "execution_count": 5,
      "outputs": []
    },
    {
      "cell_type": "code",
      "source": [
        "# Test with custom sentences\n",
        "test_sentences = [\n",
        "    \"අම්මා යුහුෂුලුව අවදිවෙනවා\",\n",
        "    \"උකුෂ්ෂා සාර්ථඛව සුනඛයකු පස්සේ එළවනවා\",\n",
        "    \"ණාවිකයා සම්මත තාක්සණය නෞඛා පැදවීමට භාවිතා කරනවා\",\n",
        "\n",
        "]\n",
        "\n",
        "correct_sentences(test_sentences)\n"
      ],
      "metadata": {
        "colab": {
          "base_uri": "https://localhost:8080/"
        },
        "id": "wRMTolCpxql5",
        "outputId": "321fa345-0a62-4499-e247-2af9c5c934a9"
      },
      "execution_count": 8,
      "outputs": [
        {
          "output_type": "stream",
          "name": "stdout",
          "text": [
            "\n",
            "Sample Sentence 1:\n",
            "Original Sentence: අම්මා යුහුෂුලුව අවදිවෙනවා\n",
            "Misspelled Words: ['යුහුෂුලුව']\n",
            "Corrected Sentence: අම්මා යුහුසුලුව අවදිවෙනවා\n",
            "\n",
            "Sample Sentence 2:\n",
            "Original Sentence: උකුෂ්ෂා සාර්ථඛව සුනඛයකු පස්සේ එළවනවා\n",
            "Misspelled Words: ['උකුෂ්ෂා', 'සාර්ථඛව']\n",
            "Corrected Sentence: උකුස්සා සාර්ථකව සුනඛයකු පස්සේ එළවනවා\n",
            "\n",
            "Sample Sentence 3:\n",
            "Original Sentence: ණාවිකයා සම්මත තාක්සණය නෞඛා පැදවීමට භාවිතා කරනවා\n",
            "Misspelled Words: ['ණාවිකයා', 'තාක්සණය', 'නෞඛා', 'පැදවීමට', 'භාවිතා']\n",
            "Corrected Sentence: නාවිකයා සම්මත තාක්ෂණය නෞකා පැදවීම භාවිතය කරනවා\n"
          ]
        }
      ]
    },
    {
      "cell_type": "markdown",
      "source": [
        "\n",
        "\n",
        "---\n",
        "## To enhance the Sinhala Spelling Corrector further by providing correction suggestions based on **edit distance**, the following improved approach can be implemented. This ensures better identification and automatic correction of errors with suggestions, thereby improving the accuracy of the Sinhala text correction.\n"
      ],
      "metadata": {
        "id": "SgTei90K4IYK"
      }
    },
    {
      "cell_type": "markdown",
      "source": [
        "\n",
        "\n",
        "---\n",
        "Create a Function to Provide Suggestions\n"
      ],
      "metadata": {
        "id": "F6zy01t_4XIs"
      }
    },
    {
      "cell_type": "code",
      "source": [
        "# Function to provide top N suggestions for a misspelled word\n",
        "def get_suggestions(input_word, correct_word_list, top_n=3):\n",
        "    distances = []\n",
        "\n",
        "    # Calculate Levenshtein distance for each correct word\n",
        "    for word in correct_word_list:\n",
        "        distance = Levenshtein.distance(input_word, word)\n",
        "        distances.append((word, distance))\n",
        "\n",
        "    # Sort words by their edit distance (ascending order)\n",
        "    distances.sort(key=lambda x: x[1])\n",
        "\n",
        "    # Return top N closest words\n",
        "    return [word for word, _ in distances[:top_n]]\n"
      ],
      "metadata": {
        "id": "u3q_E3A8zydQ"
      },
      "execution_count": 16,
      "outputs": []
    },
    {
      "cell_type": "markdown",
      "source": [
        "Correct Sentences with Suggestions"
      ],
      "metadata": {
        "id": "xhgM7shf4cUp"
      }
    },
    {
      "cell_type": "code",
      "source": [
        "# Correct sentences and provide suggestions\n",
        "def correct_sentence_with_suggestions(sentences, correct_word_list, top_n=3):\n",
        "    for i, sentence in enumerate(sentences):\n",
        "        print(f\"\\nSample Sentence {i+1}:\")\n",
        "        print(f\"Original Sentence: {sentence}\")\n",
        "\n",
        "        words = sentence.split()\n",
        "        misspelled_words = []\n",
        "        corrected_words = []\n",
        "\n",
        "        # Check for misspelled words\n",
        "        for word in words:\n",
        "            if word not in correct_word_list:\n",
        "                misspelled_words.append(word)\n",
        "                suggestions = get_suggestions(word, correct_word_list, top_n)\n",
        "                corrected_word = suggestions[0]  # Automatically pick the closest suggestion\n",
        "\n",
        "                print(f\"Word '{word}' is misspelled. Suggestions: {suggestions}\")\n",
        "                corrected_words.append(corrected_word)\n",
        "            else:\n",
        "                corrected_words.append(word)\n",
        "\n",
        "        # Display results\n",
        "        print(f\"Misspelled Words: {misspelled_words}\")\n",
        "        corrected_sentence = \" \".join(corrected_words)\n",
        "        print(f\"Corrected Sentence: {corrected_sentence}\")\n"
      ],
      "metadata": {
        "id": "cle49Mvu2WBz"
      },
      "execution_count": 17,
      "outputs": []
    },
    {
      "cell_type": "code",
      "source": [
        "# Extract correct words from dataset\n",
        "correct_words = data[data['label'] == 1]['word'].tolist()\n",
        "\n",
        "# Example sentences to test the implementation\n",
        "test_sentences = [\n",
        "    \"උකුෂ්ෂා සාර්ථඛව සුනඛයකු පස්සේ එළවනවා\",\n",
        "    \"ණාවිකයා සම්මත තාක්සණය නෞඛා පැදවීමට භාවිතා කරනවා\",\n",
        "    \"මුරඛාරයා සැළකිළිමත්ව වීදිය පසුකරනවා\",\n",
        "    \"අම්මා යුහුෂුලුව අවදිවෙනවා\",\n",
        "    \"සමකාළීන වෙඩික්කාරයා වෙඩිතියනවා\",\n",
        "    \"වෙඩික්කාරයා වෙඩිතියනවා\",\n",
        "    \"අම්මා අවදිවෙනවා\"\n",
        "]\n",
        "\n",
        "# Run the correction function\n",
        "correct_sentence_with_suggestions(test_sentences, correct_words, top_n=3)\n"
      ],
      "metadata": {
        "colab": {
          "base_uri": "https://localhost:8080/"
        },
        "id": "ER3XauJk2Y3_",
        "outputId": "8c89f85f-f15b-43b1-82c3-9aa9978a5d74"
      },
      "execution_count": 29,
      "outputs": [
        {
          "output_type": "stream",
          "name": "stdout",
          "text": [
            "\n",
            "Sample Sentence 1:\n",
            "Original Sentence: උකුෂ්ෂා සාර්ථඛව සුනඛයකු පස්සේ එළවනවා\n",
            "Word 'උකුෂ්ෂා' is misspelled. Suggestions: ['උකුස්සා', 'උකුණා', 'කුක්කා']\n",
            "Word 'සාර්ථඛව' is misspelled. Suggestions: ['සාර්ථකව', 'සාර්ථක', 'සාර්ථය']\n",
            "Misspelled Words: ['උකුෂ්ෂා', 'සාර්ථඛව']\n",
            "Corrected Sentence: උකුස්සා සාර්ථකව සුනඛයකු පස්සේ එළවනවා\n",
            "\n",
            "Sample Sentence 2:\n",
            "Original Sentence: ණාවිකයා සම්මත තාක්සණය නෞඛා පැදවීමට භාවිතා කරනවා\n",
            "Word 'ණාවිකයා' is misspelled. Suggestions: ['නාවිකයා', 'ජාතිකයා', 'පාදිකයා']\n",
            "Word 'තාක්සණය' is misspelled. Suggestions: ['තාක්ෂණය', 'තක්ෂණය', 'අක්සනය']\n",
            "Word 'නෞඛා' is misspelled. Suggestions: ['නෞකා', 'නයා', 'නා']\n",
            "Word 'පැදවීමට' is misspelled. Suggestions: ['පැදවීම', 'පැටවීම', 'පැනවීම']\n",
            "Word 'භාවිතා' is misspelled. Suggestions: ['භාවිතය', 'භාවිතාව', 'අභාවිතය']\n",
            "Misspelled Words: ['ණාවිකයා', 'තාක්සණය', 'නෞඛා', 'පැදවීමට', 'භාවිතා']\n",
            "Corrected Sentence: නාවිකයා සම්මත තාක්ෂණය නෞකා පැදවීම භාවිතය කරනවා\n",
            "\n",
            "Sample Sentence 3:\n",
            "Original Sentence: මුරඛාරයා සැළකිළිමත්ව වීදිය පසුකරනවා\n",
            "Word 'මුරඛාරයා' is misspelled. Suggestions: ['මුරකාරයා', 'කුමාරයා', 'ගුරුවරයා']\n",
            "Word 'සැළකිළිමත්ව' is misspelled. Suggestions: ['සැළකිලිමත්ව', 'සැලකිලිමත්ව', 'සැලකිළිමත්']\n",
            "Misspelled Words: ['මුරඛාරයා', 'සැළකිළිමත්ව']\n",
            "Corrected Sentence: මුරකාරයා සැළකිලිමත්ව වීදිය පසුකරනවා\n",
            "\n",
            "Sample Sentence 4:\n",
            "Original Sentence: අම්මා යුහුෂුලුව අවදිවෙනවා\n",
            "Word 'යුහුෂුලුව' is misspelled. Suggestions: ['යුහුසුලුව', 'යුහුසුලු', 'අහුමුලුව']\n",
            "Misspelled Words: ['යුහුෂුලුව']\n",
            "Corrected Sentence: අම්මා යුහුසුලුව අවදිවෙනවා\n",
            "\n",
            "Sample Sentence 5:\n",
            "Original Sentence: සමකාළීන වෙඩික්කාරයා වෙඩිතියනවා\n",
            "Word 'සමකාළීන' is misspelled. Suggestions: ['සමකාලීන', 'සමාකාලීන', 'කාලීන']\n",
            "Misspelled Words: ['සමකාළීන']\n",
            "Corrected Sentence: සමකාලීන වෙඩික්කාරයා වෙඩිතියනවා\n",
            "\n",
            "Sample Sentence 6:\n",
            "Original Sentence: වෙඩික්කාරයා වෙඩිතියනවා\n",
            "Misspelled Words: []\n",
            "Corrected Sentence: වෙඩික්කාරයා වෙඩිතියනවා\n",
            "\n",
            "Sample Sentence 7:\n",
            "Original Sentence: අම්මා අවදිවෙනවා\n",
            "Misspelled Words: []\n",
            "Corrected Sentence: අම්මා අවදිවෙනවා\n"
          ]
        }
      ]
    },
    {
      "cell_type": "code",
      "source": [
        "def calculate_accuracy(test_sentences, correct_words):\n",
        "    \"\"\"\n",
        "    Calculates the accuracy of the spell correction model.\n",
        "    \"\"\"\n",
        "    correct_count = 0\n",
        "    total_words = 0\n",
        "\n",
        "    for sentence in test_sentences:\n",
        "        words = sentence.split()\n",
        "        total_words += len(words)\n",
        "        for word in words:\n",
        "            if word in correct_words:\n",
        "              correct_count +=1\n",
        "\n",
        "    accuracy = (correct_count / total_words) * 100\n",
        "    return accuracy\n",
        "\n",
        "# Example usage (assuming correct_words and test_sentences are defined)\n",
        "accuracy = calculate_accuracy(test_sentences, correct_words)\n",
        "print(f\"Accuracy: {accuracy:.2f}%\")"
      ],
      "metadata": {
        "colab": {
          "base_uri": "https://localhost:8080/"
        },
        "id": "5n3D2Vos5cRG",
        "outputId": "ad702d9c-bcfc-4115-a4e7-a540e561c401"
      },
      "execution_count": 30,
      "outputs": [
        {
          "output_type": "stream",
          "name": "stdout",
          "text": [
            "Accuracy: 57.69%\n"
          ]
        }
      ]
    }
  ]
}